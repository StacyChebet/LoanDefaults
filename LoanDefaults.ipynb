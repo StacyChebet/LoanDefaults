{
  "nbformat": 4,
  "nbformat_minor": 0,
  "metadata": {
    "colab": {
      "provenance": [],
      "authorship_tag": "ABX9TyNNpO4vqPqSRsKMNAGSbxxc",
      "include_colab_link": true
    },
    "kernelspec": {
      "name": "python3",
      "display_name": "Python 3"
    },
    "language_info": {
      "name": "python"
    }
  },
  "cells": [
    {
      "cell_type": "markdown",
      "metadata": {
        "id": "view-in-github",
        "colab_type": "text"
      },
      "source": [
        "<a href=\"https://colab.research.google.com/github/StacyChebet/LoanDefaults/blob/master/LoanDefaults.ipynb\" target=\"_parent\"><img src=\"https://colab.research.google.com/assets/colab-badge.svg\" alt=\"Open In Colab\"/></a>"
      ]
    },
    {
      "cell_type": "markdown",
      "source": [
        "#**Introduction to Data Processing**\n",
        "Data processing involves cleaning and transforming raw data into a suitable format for modeling.\n",
        "## **Objective**\n",
        "This notebook aims to provide hands-on experience in preprocessing data, focusing on handling missing value, scaling feautures, encoding categorical variables, and more.\n",
        "## **Key Objectives**\n",
        "1. **Understand Data:** Familiarize with the dataset and its characteristics.\n",
        "2. **Handle Missing Values:** Identify and treat missing data in different columns.\n",
        "3. **Feature Encoding:** Convert categorical variables into numerical formats suitable for machine learning models.\n",
        "4. **Feature Scaling:** Normalize or standardize numerical values to improve model performance.\n",
        "5. **Data Splitting:** Prepare the dataset for training and testing to evaluate the performance of machine learning models.\n"
      ],
      "metadata": {
        "id": "gDkAAShC5Dkd"
      }
    },
    {
      "cell_type": "markdown",
      "source": [
        "##**Data Description**\n",
        "The dataset provided is a collection of loan application records, which can be used to ptedict the likelihood of a default. <br>\n",
        "Here is a brief description of each column in the dataset:\n",
        "- `TARGET`: Binary indicator where **1** represents a default on a loan and **0** represents a non-default. This is the label for our predictive modeling.\n",
        "- `NAME_CONTRACT_TYPE`: Type of loan contracted. Categorical variable (e.g. 'Cash loans', 'Resolving loans').\n",
        "- `CODE_GENDER`: Gender of the applicant. Categorical variable ('M' for male, 'F' for female).\n",
        "- `FLAG_OWN_CAR`: Indicates whether the applicant owns a car ('Y' for yes, 'N' for no).\n",
        "- `FLAG_OWN_REALTY`: Indicates whether the applicant owns real estate ('Y' for yes, 'N' for no).\n",
        "- `CNT_CHILDREN`: Number of children the applicant has.\n",
        "- `AMT_INCOME_TOTAL`: Total annual income of the applicant.\n",
        "- `AMT_CREDIT`: Credit amount of the loan taken.\n",
        "- `AMT_ANNUITY`: Loan annuity.\n",
        "- `DAYS_BIRTH`: Applicant's age in days at the time of application (negative values indicating the age).\n",
        "- `YEARS_EMPLOYED`: Number of years the applicant has been employed.\n"
      ],
      "metadata": {
        "id": "rzwiIPoX6UYt"
      }
    },
    {
      "cell_type": "markdown",
      "source": [
        "##**Loading Libraries and Data**\n",
        "Libraries used:\n",
        "- **Pandas:** For data manipulation\n",
        "- **Numpy:** For numerical operations\n",
        "- **Seaborn:** For data visualization"
      ],
      "metadata": {
        "id": "bQsUHPDo8sOx"
      }
    },
    {
      "cell_type": "code",
      "source": [
        "#Importing necessary libraries\n",
        "import pandas as pd\n",
        "import numpy as np\n",
        "import matplotlib.pyplot as plt\n",
        "import seaborn as sns\n",
        "\n",
        "#Setting visualization styles\n",
        "sns.set(style=\"whitegrid\")\n",
        "\n",
        "#Mounting google drive\n",
        "from google.colab import drive\n",
        "drive.mount('/content/drive')\n",
        "\n",
        "#Changing directory\n",
        "%cd /content/drive/My Drive/Colab Notebooks/Data Analytics - IBT/LoanDefaults\n",
        "\n",
        "#Loading the dataset\n",
        "file_path = \"loan_default.csv\"\n",
        "df = pd.read_csv(file_path)\n",
        "\n",
        "#Displaying the first few rows of the dataset\n",
        "df.head()"
      ],
      "metadata": {
        "colab": {
          "base_uri": "https://localhost:8080/",
          "height": 262
        },
        "id": "fX8Pr8Dh9Zzg",
        "outputId": "b5153728-3de3-41b8-ce68-e04ea5bc781c"
      },
      "execution_count": 1,
      "outputs": [
        {
          "output_type": "stream",
          "name": "stdout",
          "text": [
            "Drive already mounted at /content/drive; to attempt to forcibly remount, call drive.mount(\"/content/drive\", force_remount=True).\n",
            "/content/drive/My Drive/Colab Notebooks/Data Analytics - IBT/LoanDefaults\n"
          ]
        },
        {
          "output_type": "execute_result",
          "data": {
            "text/plain": [
              "   TARGET NAME_CONTRACT_TYPE CODE_GENDER FLAG_OWN_CAR FLAG_OWN_REALTY  \\\n",
              "0     0.0         Cash loans           M            Y               N   \n",
              "1     0.0    Revolving loans           M            Y               Y   \n",
              "2     0.0         Cash loans           M            Y               N   \n",
              "3     0.0         Cash loans           F            N               Y   \n",
              "4     0.0         Cash loans           F            N               Y   \n",
              "\n",
              "   CNT_CHILDREN  AMT_INCOME_TOTAL  AMT_CREDIT  AMT_ANNUITY  DAYS_BIRTH  \\\n",
              "0             1          225000.0    578619.0      23229.0      -12347   \n",
              "1             1               NaN    270000.0      13500.0      -14048   \n",
              "2             0          144000.0    753840.0      29340.0      -14639   \n",
              "3             0           81000.0     98910.0       7785.0      -14591   \n",
              "4             1          103500.0    521280.0      26779.5      -12023   \n",
              "\n",
              "   YEARS_EMPLOYED  \n",
              "0               0  \n",
              "1               6  \n",
              "2               6  \n",
              "3              11  \n",
              "4               0  "
            ],
            "text/html": [
              "\n",
              "  <div id=\"df-e3dd6422-46fa-4f21-bba5-321e5368323f\" class=\"colab-df-container\">\n",
              "    <div>\n",
              "<style scoped>\n",
              "    .dataframe tbody tr th:only-of-type {\n",
              "        vertical-align: middle;\n",
              "    }\n",
              "\n",
              "    .dataframe tbody tr th {\n",
              "        vertical-align: top;\n",
              "    }\n",
              "\n",
              "    .dataframe thead th {\n",
              "        text-align: right;\n",
              "    }\n",
              "</style>\n",
              "<table border=\"1\" class=\"dataframe\">\n",
              "  <thead>\n",
              "    <tr style=\"text-align: right;\">\n",
              "      <th></th>\n",
              "      <th>TARGET</th>\n",
              "      <th>NAME_CONTRACT_TYPE</th>\n",
              "      <th>CODE_GENDER</th>\n",
              "      <th>FLAG_OWN_CAR</th>\n",
              "      <th>FLAG_OWN_REALTY</th>\n",
              "      <th>CNT_CHILDREN</th>\n",
              "      <th>AMT_INCOME_TOTAL</th>\n",
              "      <th>AMT_CREDIT</th>\n",
              "      <th>AMT_ANNUITY</th>\n",
              "      <th>DAYS_BIRTH</th>\n",
              "      <th>YEARS_EMPLOYED</th>\n",
              "    </tr>\n",
              "  </thead>\n",
              "  <tbody>\n",
              "    <tr>\n",
              "      <th>0</th>\n",
              "      <td>0.0</td>\n",
              "      <td>Cash loans</td>\n",
              "      <td>M</td>\n",
              "      <td>Y</td>\n",
              "      <td>N</td>\n",
              "      <td>1</td>\n",
              "      <td>225000.0</td>\n",
              "      <td>578619.0</td>\n",
              "      <td>23229.0</td>\n",
              "      <td>-12347</td>\n",
              "      <td>0</td>\n",
              "    </tr>\n",
              "    <tr>\n",
              "      <th>1</th>\n",
              "      <td>0.0</td>\n",
              "      <td>Revolving loans</td>\n",
              "      <td>M</td>\n",
              "      <td>Y</td>\n",
              "      <td>Y</td>\n",
              "      <td>1</td>\n",
              "      <td>NaN</td>\n",
              "      <td>270000.0</td>\n",
              "      <td>13500.0</td>\n",
              "      <td>-14048</td>\n",
              "      <td>6</td>\n",
              "    </tr>\n",
              "    <tr>\n",
              "      <th>2</th>\n",
              "      <td>0.0</td>\n",
              "      <td>Cash loans</td>\n",
              "      <td>M</td>\n",
              "      <td>Y</td>\n",
              "      <td>N</td>\n",
              "      <td>0</td>\n",
              "      <td>144000.0</td>\n",
              "      <td>753840.0</td>\n",
              "      <td>29340.0</td>\n",
              "      <td>-14639</td>\n",
              "      <td>6</td>\n",
              "    </tr>\n",
              "    <tr>\n",
              "      <th>3</th>\n",
              "      <td>0.0</td>\n",
              "      <td>Cash loans</td>\n",
              "      <td>F</td>\n",
              "      <td>N</td>\n",
              "      <td>Y</td>\n",
              "      <td>0</td>\n",
              "      <td>81000.0</td>\n",
              "      <td>98910.0</td>\n",
              "      <td>7785.0</td>\n",
              "      <td>-14591</td>\n",
              "      <td>11</td>\n",
              "    </tr>\n",
              "    <tr>\n",
              "      <th>4</th>\n",
              "      <td>0.0</td>\n",
              "      <td>Cash loans</td>\n",
              "      <td>F</td>\n",
              "      <td>N</td>\n",
              "      <td>Y</td>\n",
              "      <td>1</td>\n",
              "      <td>103500.0</td>\n",
              "      <td>521280.0</td>\n",
              "      <td>26779.5</td>\n",
              "      <td>-12023</td>\n",
              "      <td>0</td>\n",
              "    </tr>\n",
              "  </tbody>\n",
              "</table>\n",
              "</div>\n",
              "    <div class=\"colab-df-buttons\">\n",
              "\n",
              "  <div class=\"colab-df-container\">\n",
              "    <button class=\"colab-df-convert\" onclick=\"convertToInteractive('df-e3dd6422-46fa-4f21-bba5-321e5368323f')\"\n",
              "            title=\"Convert this dataframe to an interactive table.\"\n",
              "            style=\"display:none;\">\n",
              "\n",
              "  <svg xmlns=\"http://www.w3.org/2000/svg\" height=\"24px\" viewBox=\"0 -960 960 960\">\n",
              "    <path d=\"M120-120v-720h720v720H120Zm60-500h600v-160H180v160Zm220 220h160v-160H400v160Zm0 220h160v-160H400v160ZM180-400h160v-160H180v160Zm440 0h160v-160H620v160ZM180-180h160v-160H180v160Zm440 0h160v-160H620v160Z\"/>\n",
              "  </svg>\n",
              "    </button>\n",
              "\n",
              "  <style>\n",
              "    .colab-df-container {\n",
              "      display:flex;\n",
              "      gap: 12px;\n",
              "    }\n",
              "\n",
              "    .colab-df-convert {\n",
              "      background-color: #E8F0FE;\n",
              "      border: none;\n",
              "      border-radius: 50%;\n",
              "      cursor: pointer;\n",
              "      display: none;\n",
              "      fill: #1967D2;\n",
              "      height: 32px;\n",
              "      padding: 0 0 0 0;\n",
              "      width: 32px;\n",
              "    }\n",
              "\n",
              "    .colab-df-convert:hover {\n",
              "      background-color: #E2EBFA;\n",
              "      box-shadow: 0px 1px 2px rgba(60, 64, 67, 0.3), 0px 1px 3px 1px rgba(60, 64, 67, 0.15);\n",
              "      fill: #174EA6;\n",
              "    }\n",
              "\n",
              "    .colab-df-buttons div {\n",
              "      margin-bottom: 4px;\n",
              "    }\n",
              "\n",
              "    [theme=dark] .colab-df-convert {\n",
              "      background-color: #3B4455;\n",
              "      fill: #D2E3FC;\n",
              "    }\n",
              "\n",
              "    [theme=dark] .colab-df-convert:hover {\n",
              "      background-color: #434B5C;\n",
              "      box-shadow: 0px 1px 3px 1px rgba(0, 0, 0, 0.15);\n",
              "      filter: drop-shadow(0px 1px 2px rgba(0, 0, 0, 0.3));\n",
              "      fill: #FFFFFF;\n",
              "    }\n",
              "  </style>\n",
              "\n",
              "    <script>\n",
              "      const buttonEl =\n",
              "        document.querySelector('#df-e3dd6422-46fa-4f21-bba5-321e5368323f button.colab-df-convert');\n",
              "      buttonEl.style.display =\n",
              "        google.colab.kernel.accessAllowed ? 'block' : 'none';\n",
              "\n",
              "      async function convertToInteractive(key) {\n",
              "        const element = document.querySelector('#df-e3dd6422-46fa-4f21-bba5-321e5368323f');\n",
              "        const dataTable =\n",
              "          await google.colab.kernel.invokeFunction('convertToInteractive',\n",
              "                                                    [key], {});\n",
              "        if (!dataTable) return;\n",
              "\n",
              "        const docLinkHtml = 'Like what you see? Visit the ' +\n",
              "          '<a target=\"_blank\" href=https://colab.research.google.com/notebooks/data_table.ipynb>data table notebook</a>'\n",
              "          + ' to learn more about interactive tables.';\n",
              "        element.innerHTML = '';\n",
              "        dataTable['output_type'] = 'display_data';\n",
              "        await google.colab.output.renderOutput(dataTable, element);\n",
              "        const docLink = document.createElement('div');\n",
              "        docLink.innerHTML = docLinkHtml;\n",
              "        element.appendChild(docLink);\n",
              "      }\n",
              "    </script>\n",
              "  </div>\n",
              "\n",
              "\n",
              "<div id=\"df-61ffbd57-b2fc-4aae-82aa-4909c699127a\">\n",
              "  <button class=\"colab-df-quickchart\" onclick=\"quickchart('df-61ffbd57-b2fc-4aae-82aa-4909c699127a')\"\n",
              "            title=\"Suggest charts\"\n",
              "            style=\"display:none;\">\n",
              "\n",
              "<svg xmlns=\"http://www.w3.org/2000/svg\" height=\"24px\"viewBox=\"0 0 24 24\"\n",
              "     width=\"24px\">\n",
              "    <g>\n",
              "        <path d=\"M19 3H5c-1.1 0-2 .9-2 2v14c0 1.1.9 2 2 2h14c1.1 0 2-.9 2-2V5c0-1.1-.9-2-2-2zM9 17H7v-7h2v7zm4 0h-2V7h2v10zm4 0h-2v-4h2v4z\"/>\n",
              "    </g>\n",
              "</svg>\n",
              "  </button>\n",
              "\n",
              "<style>\n",
              "  .colab-df-quickchart {\n",
              "      --bg-color: #E8F0FE;\n",
              "      --fill-color: #1967D2;\n",
              "      --hover-bg-color: #E2EBFA;\n",
              "      --hover-fill-color: #174EA6;\n",
              "      --disabled-fill-color: #AAA;\n",
              "      --disabled-bg-color: #DDD;\n",
              "  }\n",
              "\n",
              "  [theme=dark] .colab-df-quickchart {\n",
              "      --bg-color: #3B4455;\n",
              "      --fill-color: #D2E3FC;\n",
              "      --hover-bg-color: #434B5C;\n",
              "      --hover-fill-color: #FFFFFF;\n",
              "      --disabled-bg-color: #3B4455;\n",
              "      --disabled-fill-color: #666;\n",
              "  }\n",
              "\n",
              "  .colab-df-quickchart {\n",
              "    background-color: var(--bg-color);\n",
              "    border: none;\n",
              "    border-radius: 50%;\n",
              "    cursor: pointer;\n",
              "    display: none;\n",
              "    fill: var(--fill-color);\n",
              "    height: 32px;\n",
              "    padding: 0;\n",
              "    width: 32px;\n",
              "  }\n",
              "\n",
              "  .colab-df-quickchart:hover {\n",
              "    background-color: var(--hover-bg-color);\n",
              "    box-shadow: 0 1px 2px rgba(60, 64, 67, 0.3), 0 1px 3px 1px rgba(60, 64, 67, 0.15);\n",
              "    fill: var(--button-hover-fill-color);\n",
              "  }\n",
              "\n",
              "  .colab-df-quickchart-complete:disabled,\n",
              "  .colab-df-quickchart-complete:disabled:hover {\n",
              "    background-color: var(--disabled-bg-color);\n",
              "    fill: var(--disabled-fill-color);\n",
              "    box-shadow: none;\n",
              "  }\n",
              "\n",
              "  .colab-df-spinner {\n",
              "    border: 2px solid var(--fill-color);\n",
              "    border-color: transparent;\n",
              "    border-bottom-color: var(--fill-color);\n",
              "    animation:\n",
              "      spin 1s steps(1) infinite;\n",
              "  }\n",
              "\n",
              "  @keyframes spin {\n",
              "    0% {\n",
              "      border-color: transparent;\n",
              "      border-bottom-color: var(--fill-color);\n",
              "      border-left-color: var(--fill-color);\n",
              "    }\n",
              "    20% {\n",
              "      border-color: transparent;\n",
              "      border-left-color: var(--fill-color);\n",
              "      border-top-color: var(--fill-color);\n",
              "    }\n",
              "    30% {\n",
              "      border-color: transparent;\n",
              "      border-left-color: var(--fill-color);\n",
              "      border-top-color: var(--fill-color);\n",
              "      border-right-color: var(--fill-color);\n",
              "    }\n",
              "    40% {\n",
              "      border-color: transparent;\n",
              "      border-right-color: var(--fill-color);\n",
              "      border-top-color: var(--fill-color);\n",
              "    }\n",
              "    60% {\n",
              "      border-color: transparent;\n",
              "      border-right-color: var(--fill-color);\n",
              "    }\n",
              "    80% {\n",
              "      border-color: transparent;\n",
              "      border-right-color: var(--fill-color);\n",
              "      border-bottom-color: var(--fill-color);\n",
              "    }\n",
              "    90% {\n",
              "      border-color: transparent;\n",
              "      border-bottom-color: var(--fill-color);\n",
              "    }\n",
              "  }\n",
              "</style>\n",
              "\n",
              "  <script>\n",
              "    async function quickchart(key) {\n",
              "      const quickchartButtonEl =\n",
              "        document.querySelector('#' + key + ' button');\n",
              "      quickchartButtonEl.disabled = true;  // To prevent multiple clicks.\n",
              "      quickchartButtonEl.classList.add('colab-df-spinner');\n",
              "      try {\n",
              "        const charts = await google.colab.kernel.invokeFunction(\n",
              "            'suggestCharts', [key], {});\n",
              "      } catch (error) {\n",
              "        console.error('Error during call to suggestCharts:', error);\n",
              "      }\n",
              "      quickchartButtonEl.classList.remove('colab-df-spinner');\n",
              "      quickchartButtonEl.classList.add('colab-df-quickchart-complete');\n",
              "    }\n",
              "    (() => {\n",
              "      let quickchartButtonEl =\n",
              "        document.querySelector('#df-61ffbd57-b2fc-4aae-82aa-4909c699127a button');\n",
              "      quickchartButtonEl.style.display =\n",
              "        google.colab.kernel.accessAllowed ? 'block' : 'none';\n",
              "    })();\n",
              "  </script>\n",
              "</div>\n",
              "\n",
              "    </div>\n",
              "  </div>\n"
            ],
            "application/vnd.google.colaboratory.intrinsic+json": {
              "type": "dataframe",
              "variable_name": "df",
              "summary": "{\n  \"name\": \"df\",\n  \"rows\": 10284,\n  \"fields\": [\n    {\n      \"column\": \"TARGET\",\n      \"properties\": {\n        \"dtype\": \"number\",\n        \"std\": 0.26987344969727695,\n        \"min\": 0.0,\n        \"max\": 1.0,\n        \"num_unique_values\": 2,\n        \"samples\": [\n          1.0,\n          0.0\n        ],\n        \"semantic_type\": \"\",\n        \"description\": \"\"\n      }\n    },\n    {\n      \"column\": \"NAME_CONTRACT_TYPE\",\n      \"properties\": {\n        \"dtype\": \"category\",\n        \"num_unique_values\": 2,\n        \"samples\": [\n          \"Revolving loans\",\n          \"Cash loans\"\n        ],\n        \"semantic_type\": \"\",\n        \"description\": \"\"\n      }\n    },\n    {\n      \"column\": \"CODE_GENDER\",\n      \"properties\": {\n        \"dtype\": \"category\",\n        \"num_unique_values\": 2,\n        \"samples\": [\n          \"F\",\n          \"M\"\n        ],\n        \"semantic_type\": \"\",\n        \"description\": \"\"\n      }\n    },\n    {\n      \"column\": \"FLAG_OWN_CAR\",\n      \"properties\": {\n        \"dtype\": \"category\",\n        \"num_unique_values\": 2,\n        \"samples\": [\n          \"N\",\n          \"Y\"\n        ],\n        \"semantic_type\": \"\",\n        \"description\": \"\"\n      }\n    },\n    {\n      \"column\": \"FLAG_OWN_REALTY\",\n      \"properties\": {\n        \"dtype\": \"category\",\n        \"num_unique_values\": 4,\n        \"samples\": [\n          \"Y\",\n          \"NO\"\n        ],\n        \"semantic_type\": \"\",\n        \"description\": \"\"\n      }\n    },\n    {\n      \"column\": \"CNT_CHILDREN\",\n      \"properties\": {\n        \"dtype\": \"number\",\n        \"std\": 986,\n        \"min\": 0,\n        \"max\": 99999,\n        \"num_unique_values\": 13,\n        \"samples\": [\n          5,\n          6\n        ],\n        \"semantic_type\": \"\",\n        \"description\": \"\"\n      }\n    },\n    {\n      \"column\": \"AMT_INCOME_TOTAL\",\n      \"properties\": {\n        \"dtype\": \"number\",\n        \"std\": 105245.71387436632,\n        \"min\": 27000.0,\n        \"max\": 3825000.0,\n        \"num_unique_values\": 260,\n        \"samples\": [\n          72000.0,\n          355500.0\n        ],\n        \"semantic_type\": \"\",\n        \"description\": \"\"\n      }\n    },\n    {\n      \"column\": \"AMT_CREDIT\",\n      \"properties\": {\n        \"dtype\": \"number\",\n        \"std\": 400843.75847262883,\n        \"min\": 45000.0,\n        \"max\": 4050000.0,\n        \"num_unique_values\": 1860,\n        \"samples\": [\n          358443.0,\n          239400.0\n        ],\n        \"semantic_type\": \"\",\n        \"description\": \"\"\n      }\n    },\n    {\n      \"column\": \"AMT_ANNUITY\",\n      \"properties\": {\n        \"dtype\": \"number\",\n        \"std\": 14933.326225344974,\n        \"min\": 2974.5,\n        \"max\": 258025.5,\n        \"num_unique_values\": 4279,\n        \"samples\": [\n          20191.5,\n          8203.5\n        ],\n        \"semantic_type\": \"\",\n        \"description\": \"\"\n      }\n    },\n    {\n      \"column\": \"DAYS_BIRTH\",\n      \"properties\": {\n        \"dtype\": \"number\",\n        \"std\": 4377,\n        \"min\": -25166,\n        \"max\": -7680,\n        \"num_unique_values\": 7604,\n        \"samples\": [\n          -17405,\n          -20037\n        ],\n        \"semantic_type\": \"\",\n        \"description\": \"\"\n      }\n    },\n    {\n      \"column\": \"YEARS_EMPLOYED\",\n      \"properties\": {\n        \"dtype\": \"number\",\n        \"std\": 388,\n        \"min\": -1000,\n        \"max\": 150,\n        \"num_unique_values\": 46,\n        \"samples\": [\n          32,\n          28\n        ],\n        \"semantic_type\": \"\",\n        \"description\": \"\"\n      }\n    }\n  ]\n}"
            }
          },
          "metadata": {},
          "execution_count": 1
        }
      ]
    },
    {
      "cell_type": "markdown",
      "source": [
        "## **Understanding the Dataset**\n",
        "\n",
        "In this section, we'll dive into understanding some crucial aspects of our dataset. This foundational knowledge is key to effective preprocessing and ultimately, to building robust machine learning models. Here are the areas we will focus on:\n",
        "\n",
        "- **Data Shape and Structure**: Understanding the size of the dataset and the structure of the data tables. It’s important to know how many instances (rows) and features (columns) we have.\n",
        "  \n",
        "- **Summary Statistics**: By examining the central tendency and spread of numeric features, we can gain insights into the general distribution and scale of our data.\n",
        "\n",
        "- **Data Types**: Different data types require different preprocessing methods. We will identify which columns are numerical, categorical, or boolean to tailor our preprocessing techniques appropriately.\n",
        "\n",
        "- **Missing Values**: Identifying missing values is crucial as they can significantly impact the performance of machine learning models. We'll need to decide how to handle these, whether by imputation, deletion, or some other method.\n",
        "\n",
        "- **Unique Values and Cardinality**: Understanding the uniqueness of data, especially for categorical data, helps in determining how to handle encoding and can reveal insights about the dataset’s granularity.\n",
        "\n",
        "- **Potential Errors or Outliers**: Early detection of anomalies or outliers can help us understand data collection errors or exceptional cases, which may require special handling or exclusion to avoid skewing our model results.\n",
        "\n",
        "- **Initial Observations**: We'll note any initial observations that may require deeper analysis or might impact how we choose to preprocess the data.\n",
        "\n",
        "Understanding these elements will set the stage for the data cleaning and preparation tasks that follow, ensuring that we approach the preprocessing with a comprehensive understanding of our dataset’s characteristics."
      ],
      "metadata": {
        "id": "8y9VjRrCySZD"
      }
    },
    {
      "cell_type": "markdown",
      "source": [
        "##**Initial Data Exploration**\n",
        "In this step, we will conduct an initial exploration of the dataset to understand its structure and basic characteristics. We will:\n",
        "\n",
        "1. Check the shape of the dataset\n",
        "2. Display the data types of each column\n",
        "3. Get a summary of the dataset using descriptive statistics"
      ],
      "metadata": {
        "id": "Kz1bnnwr-dti"
      }
    },
    {
      "cell_type": "code",
      "source": [
        "#Checking the shape of the dataset\n",
        "print(f\"The dataset contains {df.shape[0]} rows and {df.shape[1]} columns.\")\n",
        "\n",
        "#Displaying the data types of each column\n",
        "print(\"\\nData types of each column:\")\n",
        "print(df.dtypes)\n",
        "\n",
        "#Getting a summary of the dataset using descriptive statistics\n",
        "print(\"\\nSummary of the dataset:\")\n",
        "print(df.describe().T)"
      ],
      "metadata": {
        "colab": {
          "base_uri": "https://localhost:8080/"
        },
        "id": "nRJNDNo--x4u",
        "outputId": "e30b7f67-9df7-4803-f9a5-5ccfe9d7cc0b"
      },
      "execution_count": 2,
      "outputs": [
        {
          "output_type": "stream",
          "name": "stdout",
          "text": [
            "The dataset contains 10284 rows and 11 columns.\n",
            "\n",
            "Data types of each column:\n",
            "TARGET                float64\n",
            "NAME_CONTRACT_TYPE     object\n",
            "CODE_GENDER            object\n",
            "FLAG_OWN_CAR           object\n",
            "FLAG_OWN_REALTY        object\n",
            "CNT_CHILDREN            int64\n",
            "AMT_INCOME_TOTAL      float64\n",
            "AMT_CREDIT            float64\n",
            "AMT_ANNUITY           float64\n",
            "DAYS_BIRTH              int64\n",
            "YEARS_EMPLOYED          int64\n",
            "dtype: object\n",
            "\n",
            "Summary of the dataset:\n",
            "                    count           mean            std      min         25%  \\\n",
            "TARGET            10281.0       0.079078       0.269873      0.0       0.000   \n",
            "CNT_CHILDREN      10284.0      10.287340     986.138233      0.0       0.000   \n",
            "AMT_INCOME_TOTAL   6993.0  167909.947902  105245.713874  27000.0  112500.000   \n",
            "AMT_CREDIT        10284.0  599902.578326  400843.758473  45000.0  270000.000   \n",
            "AMT_ANNUITY       10284.0   27191.230747   14933.326225   2974.5   16509.375   \n",
            "DAYS_BIRTH        10284.0  -16055.232400    4377.738214 -25166.0  -19724.250   \n",
            "YEARS_EMPLOYED    10284.0    -176.848016     388.125395  -1000.0       0.000   \n",
            "\n",
            "                       50%       75%        max  \n",
            "TARGET                 0.0       0.0        1.0  \n",
            "CNT_CHILDREN           0.0       1.0    99999.0  \n",
            "AMT_INCOME_TOTAL  144000.0  202500.0  3825000.0  \n",
            "AMT_CREDIT        512446.5  810000.0  4050000.0  \n",
            "AMT_ANNUITY        25128.0   34596.0   258025.5  \n",
            "DAYS_BIRTH        -15733.5  -12352.0    -7680.0  \n",
            "YEARS_EMPLOYED         3.0       7.0      150.0  \n"
          ]
        }
      ]
    },
    {
      "cell_type": "markdown",
      "source": [
        "##**Findings**\n",
        "1. **Dataset Overview:**\n",
        "- The dataset contains 10284 rows and 11 columns.\n",
        "- Features include both **numerical** (e.g. `TARGET`, `DAYS_BIRTH`) and **categorical** (e.g. `NAME_CONTRACT_TYPE`, `DAYS_BIRTH`) variables.\n",
        "\n",
        "2. **Key Insights**\n",
        "- `AMT_INCOME_TOTAL`: The maximum income amount is 3,825,000 and the minimum amount is 27,000.<br>\n",
        " - The count of this variable is significantly less than the count of other variables, showing that there are missing values (3291 missing values).\n",
        "- `YEARS_EMPLOYED`: The maximum amount of years an applicant has been employed is 150 years, and the minimum is -1000 years, both of which are far-fetched, which might mean there are errors.\n",
        "- `CNT_CHILDREN`: The maximum number of children is 99,999 which is an impossible figure.\n"
      ],
      "metadata": {
        "id": "kJKFZg_FAjfY"
      }
    },
    {
      "cell_type": "markdown",
      "source": [
        "##**Summary Statistics for Numeric Columns**\n",
        "- `TARGET`: The mean of approximately 0.08 suggests that about 8% of the entries are defaults.\n",
        "- `CNT_CHILDREN`: The count of children ranges widely from 0 to 99,999, with a mean close to 10. This unusually high maximum might indicate an error or outlier.\n",
        "- `AMT_INCOME_TOTAL`: Total income ranges from 27,000 to 3,825,000, with a significant standard deviation, suggesting wide disparity in applicants' income levels.\n",
        "- `AMT_CREDIT`: The loan credit amount varies from 45,000 to 4,050,000, highlighting the broad range of loan amounts processed.\n",
        "- `AMT_ANNUITY`: Annuities range from 2,974.5 to 258,025.5, showing what borrowers pay periodically, with a mean of about 27,191.\n",
        "- `DAYS_BIRTH`: The days since birth (negative values indicating age) range from -25,166 to -7,680, which corresponds to ages approximately between 20 and 69 years.\n",
        "- `YEARS_EMPLOYED`: Employment duration ranges from -1000 to 150 years, where negative values may indicate errors or specific data entry conventions needing clarification."
      ],
      "metadata": {
        "id": "rfZ9iaYQZWTX"
      }
    },
    {
      "cell_type": "markdown",
      "source": [
        "## **Checking for Missing Values**"
      ],
      "metadata": {
        "id": "nRS929QZ0aqs"
      }
    },
    {
      "cell_type": "code",
      "source": [
        "#Check for missing values in each column\n",
        "print(\"\\nMissing Values in each column:\")\n",
        "print(df.isnull().sum())"
      ],
      "metadata": {
        "colab": {
          "base_uri": "https://localhost:8080/"
        },
        "id": "JWp7kFIr0hwl",
        "outputId": "c97c1aef-cd5f-4612-dfe0-4a4b85f7c83c"
      },
      "execution_count": 3,
      "outputs": [
        {
          "output_type": "stream",
          "name": "stdout",
          "text": [
            "\n",
            "Missing Values in each column:\n",
            "TARGET                   3\n",
            "NAME_CONTRACT_TYPE       0\n",
            "CODE_GENDER              0\n",
            "FLAG_OWN_CAR          2262\n",
            "FLAG_OWN_REALTY         30\n",
            "CNT_CHILDREN             0\n",
            "AMT_INCOME_TOTAL      3291\n",
            "AMT_CREDIT               0\n",
            "AMT_ANNUITY              0\n",
            "DAYS_BIRTH               0\n",
            "YEARS_EMPLOYED           0\n",
            "dtype: int64\n"
          ]
        }
      ]
    },
    {
      "cell_type": "markdown",
      "source": [
        "##**Missing Values Analysis**\n",
        "Missing data can significantly affect the outcomes of our analysis and predictive modeling. <br>\n",
        "Here's a breakdown of missing values across different columns in the dataset:\n",
        "- `TARGET`: 3 missing values. This is crucial since it is our dependent variable. We need to decide whether to impute these values or remove the corresponding records.\n",
        "- `NAME_CONTRACT_TYPE`, `CODE_GENDER`, `CNT_CHILDREN`, `AMT_CREDIT`, `AMT_ANNUITY`, `DAYS_BIRTH`, `YEARS_EMPLOYED`: No missing values, which simplifies preprocessing for these columns.\n",
        "- `FLAG_OWN_CAR`: 2,262 missing values. We need to determine whether this is due to data collection process or other reasons, and decide on an appropriate imputation strategy.\n",
        "- `FLAG_OWN_REALTY`: 30 missing values. Considering the small number relative to the dataset size, we might opt for simple imputation methods like mode replacement.\n",
        "- `AMT_INCOME_TOTAL`: 3,291 missing values, a significant number that requires careful consideration for imputation, as it could impact any analysis related to the applicant's income."
      ],
      "metadata": {
        "id": "MKzg8Co72-mH"
      }
    },
    {
      "cell_type": "markdown",
      "source": [
        "#**Check for Unique Values to Understand Cardinality**\n"
      ],
      "metadata": {
        "id": "WGfPHXVh41ba"
      }
    },
    {
      "cell_type": "code",
      "source": [
        "#Check the number of unique values in each column to understand cardinality\n",
        "print(\"\\nUnique Values in Each Column:\")\n",
        "print(df.nunique())"
      ],
      "metadata": {
        "colab": {
          "base_uri": "https://localhost:8080/"
        },
        "id": "JfJLdXBg467Y",
        "outputId": "f648393d-45ff-40d6-8684-2210d1139014"
      },
      "execution_count": 4,
      "outputs": [
        {
          "output_type": "stream",
          "name": "stdout",
          "text": [
            "\n",
            "Unique Values in Each Column:\n",
            "TARGET                   2\n",
            "NAME_CONTRACT_TYPE       2\n",
            "CODE_GENDER              2\n",
            "FLAG_OWN_CAR             2\n",
            "FLAG_OWN_REALTY          4\n",
            "CNT_CHILDREN            13\n",
            "AMT_INCOME_TOTAL       260\n",
            "AMT_CREDIT            1860\n",
            "AMT_ANNUITY           4279\n",
            "DAYS_BIRTH            7604\n",
            "YEARS_EMPLOYED          46\n",
            "dtype: int64\n"
          ]
        }
      ]
    },
    {
      "cell_type": "markdown",
      "source": [
        "##**Cardinality Analysis**\n",
        "**Cardinality** refers to the number of unique values in a column. <br>\n",
        "Understanding cardinality is important for identifying features with a wide range of values and those with limited variety, which influences how we might process and use these features in machine learning models. <br>\n",
        "Below is a summary of the cardinality in each column of our dataset:\n",
        "- `TARGET`: 2 unique values. This binary variable indicates whether a loan defaulted or not, suitable for classification tasks.\n",
        "- `NAME_CONTRACT_TYPE`: 2 unique values. Indicates the type of loan, either 'Cash loans' or 'Revolving loans'.\n",
        "- `CODE_GENDER`: 2 unique values, typically 'M' for male and 'F' for female.\n",
        "- `FLAG_OWN_CAR`: 2 unique values, indicating car ownership ('Y' for yes and 'N' for no).\n",
        "- `FLAG_OWN_REALTY`: 4 unique values, suggesting some categories or errors since typically this should be 'Y' or 'N'.\n",
        "- `CNT_CHILDREN`: 13 unique values, showing the number of children ranging from 0 to a higher number, affecting the applicant's financial responsibilities.\n",
        "- `AMT_INCOME_TOTAL`: 260 unique values. The income amounts vary significantly, which could reflect different economic statuses.\n",
        "- `AMT_CREDIT`: 1,860 unique values, showing a wide range of loan amounts.\n",
        "- `AMT_ANNUITY`: 4,279 unique values, indicating varied periodic repayment plans.\n",
        "- `DAYS_BIRTH`: 7,604 unique values, translating directly to the age of the clients.\n",
        "- `YEARS_EMPLOYED`: 46 unique values, showing diverese employment durations among applicants.\n",
        "\n",
        "The high cardinality in columns like `AMT_CREDIT`, `AMT_ANNUITY` and `DAYS_BIRTH` indicates **continuos numerical data**, which may require **binning** or **scaling** during preprocessing.<br>\n",
        "Conversely, low cardinality columns like `TARGET` or `CODE_GENDER` might be more straightforward to handle but are crucial for any analytical or predictive modeling process."
      ],
      "metadata": {
        "id": "vPQldvm_5krr"
      }
    },
    {
      "cell_type": "code",
      "source": [
        "#Checking the unique values in `FLAG_OWN_REALTY`\n",
        "df.FLAG_OWN_REALTY.unique()"
      ],
      "metadata": {
        "colab": {
          "base_uri": "https://localhost:8080/"
        },
        "id": "yIize2cR8ltM",
        "outputId": "18606497-4e35-40eb-be7a-e8944f53c605"
      },
      "execution_count": 5,
      "outputs": [
        {
          "output_type": "execute_result",
          "data": {
            "text/plain": [
              "array(['N', 'Y', nan, 'YES', 'NO'], dtype=object)"
            ]
          },
          "metadata": {},
          "execution_count": 5
        }
      ]
    },
    {
      "cell_type": "markdown",
      "source": [
        "##**Treating Inconsistencies in `FLAG_OWN_REALTY`**\n",
        "The values in this column should either be a straightforward 'Yes' or 'No' ('Y' or 'N'). <br>\n",
        "However, a closer inspection reveals inconsistencies in how the data is entered, with variations such as 'Y', 'N', 'YES', 'NO', and missing values.<br>\n",
        "Standardizing this column is crucial for accurate analysis and modeling.<br>\n",
        "Here are the speps we'll take: <br>\n",
        "**Standardization:** Convert all variations to a uniform format ('Y' and 'N')."
      ],
      "metadata": {
        "id": "nytPAv0i9FQw"
      }
    },
    {
      "cell_type": "code",
      "source": [
        "#Mapping the values to standard form\n",
        "df['FLAG_OWN_REALTY'] = df['FLAG_OWN_REALTY'].replace({'YES':'Y', 'NO':'N'})\n",
        "\n",
        "df.FLAG_OWN_REALTY.unique()"
      ],
      "metadata": {
        "colab": {
          "base_uri": "https://localhost:8080/"
        },
        "id": "gnvDxBDh-Qa-",
        "outputId": "3c7db47b-1b57-4b2f-e9d4-29ee783a4b01"
      },
      "execution_count": 6,
      "outputs": [
        {
          "output_type": "execute_result",
          "data": {
            "text/plain": [
              "array(['N', 'Y', nan], dtype=object)"
            ]
          },
          "metadata": {},
          "execution_count": 6
        }
      ]
    },
    {
      "cell_type": "markdown",
      "source": [
        "##**Treating Missing Values in the Dataset**\n",
        "Missing values can introduce bias and affect the performance of machine learning models.<br>\n",
        "The following columns have missing values that need to be addressed before further analysis:\n",
        "- `TARGET` Column\n",
        "This dependent variable, has 3 missing entries. Given the small number of missing values relative to the dataset size, and the importance of having complete labels for all training instances in supervised learning, the most appropriate action is to drop these rows.\n",
        "- `FLAG_OWN_CAR` Column\n",
        "This column contains 2,262 missing entries. Since this is a categorical variable, we will impute the missing values using the **mode** of this column, representing the most common category.\n",
        "- `AMT_INCOME_TOTAL` Column\n",
        "This column has 3,291 missing values. We will use the **median** to impute these values, which is preferred over the mean because it is more **robust to outliers**, which are evident from the wide range of income values present in our dataset."
      ],
      "metadata": {
        "id": "bXyOpK-R__JQ"
      }
    },
    {
      "cell_type": "code",
      "source": [
        "#Drop rows where `TARGET` is missing\n",
        "df.dropna(subset=['TARGET'], inplace=True)\n",
        "\n",
        "#Impute missing value in `FLAG_OWN_REALTY` with mode\n",
        "realty_mode = df['FLAG_OWN_REALTY'].mode()[0]\n",
        "df['FLAG_OWN_REALTY'] = df['FLAG_OWN_REALTY'].fillna(realty_mode)\n",
        "\n",
        "#Impute missing values in `FLAG_OWN_CAR` with mode\n",
        "car_mode = df['FLAG_OWN_CAR'].mode()[0]\n",
        "df['FLAG_OWN_CAR'] = df['FLAG_OWN_CAR'].fillna(car_mode)\n",
        "\n",
        "#Impute missing values in `AMT_INCOME_TOTAL` with median\n",
        "income_median = df['AMT_INCOME_TOTAL'].median()\n",
        "df['AMT_INCOME_TOTAL'] = df['AMT_INCOME_TOTAL'].fillna(income_median)\n",
        "\n",
        "#Display the summary to verify changes\n",
        "print(df.isnull().sum())"
      ],
      "metadata": {
        "colab": {
          "base_uri": "https://localhost:8080/"
        },
        "id": "63HO78yzBc8C",
        "outputId": "519bc359-f402-46b4-8134-d6bb3a92c3f2"
      },
      "execution_count": 8,
      "outputs": [
        {
          "output_type": "stream",
          "name": "stdout",
          "text": [
            "TARGET                0\n",
            "NAME_CONTRACT_TYPE    0\n",
            "CODE_GENDER           0\n",
            "FLAG_OWN_CAR          0\n",
            "FLAG_OWN_REALTY       0\n",
            "CNT_CHILDREN          0\n",
            "AMT_INCOME_TOTAL      0\n",
            "AMT_CREDIT            0\n",
            "AMT_ANNUITY           0\n",
            "DAYS_BIRTH            0\n",
            "YEARS_EMPLOYED        0\n",
            "dtype: int64\n"
          ]
        }
      ]
    }
  ]
}